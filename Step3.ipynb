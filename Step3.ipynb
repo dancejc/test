{
  "cells": [
    {
      "cell_type": "code",
      "metadata": {},
      "source": [
        "import sys\n",
        "import numpy as np\n",
        "np.random.seed(0)\n",
        "\n",
        "from aif360.metrics import BinaryLabelDatasetMetric\n",
        "from aif360.algorithms.preprocessing import Reweighing\n",
        "from aif360.detectors.mdss.generator import get_random_subset\n",
        "from aif360.datasets import StandardDataset\n",
        "\n",
        "import pandas as pd\n",
        "\n",
        "df = pd.read_csv('DATA.csv')\n",
        "print(df.head())\n",
        "\n",
        "privileged_classes = [[0]]\n",
        "selected_features = ['1', '2', '3', '4', '5', '6', '7']\n",
        "categorical_features = ['3','4','5']\n",
        "dataset_orig = StandardDataset(df=df, \n",
        "                          label_name='GRADE', \n",
        "                          favorable_classes=[1], \n",
        "                          protected_attribute_names=['2'], \n",
        "                          privileged_classes=[[1]],\n",
        "                          categorical_features=categorical_features,\n",
        "                          features_to_keep=selected_features)\n",
        "\n",
        "#dataset_orig_train, dataset_orig_test = dataset_orig.split([0.7], shuffle=True)\n",
        "\n",
        "privileged_groups= [{'2': 1}]\n",
        "unprivileged_groups = [{'2': 2}]\n",
        "\n",
        "metric_orig_train = BinaryLabelDatasetMetric(dataset_orig, \n",
        "                                             unprivileged_groups=unprivileged_groups,\n",
        "                                             privileged_groups=privileged_groups)\n",
        "#display(Markdown(\"#### Original training dataset\"))\n",
        "print(\"Difference in mean outcomes between unprivileged and privileged groups = %f\" % metric_orig_train.mean_difference())\n",
        "print(\"Disparate Impact between unprivileged and privileged groups =\", metric_orig_train.disparate_impact())\n",
        "print(\"tatistical Parity Difference between unprivileged and privileged groups =\", metric_orig_train.statistical_parity_difference())\n",
        "\n",
        "RW = Reweighing(unprivileged_groups=unprivileged_groups,\n",
        "                privileged_groups=privileged_groups)\n",
        "dataset_transf_train = RW.fit_transform(dataset_orig)\n",
        "\n",
        "metric_transf_train = BinaryLabelDatasetMetric(dataset_transf_train, \n",
        "                                               unprivileged_groups=unprivileged_groups,\n",
        "                                               privileged_groups=privileged_groups)\n",
        "#display(Markdown(\"#### Transformed training dataset\"))\n",
        "print(\"Difference in mean outcomes between unprivileged and privileged groups = %f\" % metric_transf_train.mean_difference())\n",
        "print(\"Disparate Impact between unprivileged and privileged groups =\", metric_transf_train.disparate_impact())\n",
        "print(\"tatistical Parity Difference between unprivileged and privileged groups =\", metric_transf_train.statistical_parity_difference())"
      ],
      "outputs": [],
      "execution_count": null
    }
  ],
  "metadata": {
    "anaconda-cloud": {},
    "kernelspec": {
      "display_name": "Python 3",
      "language": "python",
      "name": "python3"
    },
    "language_info": {
      "codemirror_mode": {
        "name": "ipython",
        "version": 3
      },
      "file_extension": ".py",
      "mimetype": "text/x-python",
      "name": "python",
      "nbconvert_exporter": "python",
      "pygments_lexer": "ipython3",
      "version": "3.6.1"
    }
  },
  "nbformat": 4,
  "nbformat_minor": 4
}